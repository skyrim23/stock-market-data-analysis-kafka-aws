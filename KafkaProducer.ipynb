{
 "cells": [
  {
   "cell_type": "code",
   "execution_count": null,
   "id": "9dc7efd7",
   "metadata": {},
   "outputs": [],
   "source": [
    "import pandas as pd \n",
    "from kafka import KafkaProducer\n",
    "from time import sleep\n",
    "from json import dumps\n",
    "import json"
   ]
  },
  {
   "cell_type": "code",
   "execution_count": null,
   "id": "f9144e35",
   "metadata": {},
   "outputs": [],
   "source": [
    "#sending json data to kafka producer\n",
    "producer = KafkaProducer(bootstrap_servers =['54.211.255.6:9092'],\n",
    "                         value_serializer=lambda x: dumps(x).encode('utf-8'))"
   ]
  },
  {
   "cell_type": "code",
   "execution_count": null,
   "id": "8b9c50dd",
   "metadata": {},
   "outputs": [],
   "source": [
    "# testing send data to demo_testing topic\n",
    "producer.send('demo_test', value=\"{'hello':'Shubham'}\")"
   ]
  },
  {
   "cell_type": "code",
   "execution_count": null,
   "id": "465be058",
   "metadata": {},
   "outputs": [],
   "source": [
    "df = pd.read_csv(\"indexProcessed.csv\")"
   ]
  },
  {
   "cell_type": "code",
   "execution_count": null,
   "id": "490b0b8f",
   "metadata": {
    "scrolled": true
   },
   "outputs": [],
   "source": [
    "#get random data from df to produce it to the kafka\n",
    "while(True):\n",
    "    dict_stock = df.sample(1).to_dict(orient=\"records\")[0]\n",
    "    producer.send('demo_test', value=dict_stock)\n",
    "    sleep(1)"
   ]
  },
  {
   "cell_type": "code",
   "execution_count": null,
   "id": "4b7bfc27",
   "metadata": {},
   "outputs": [],
   "source": [
    "#flushing data from producer\n",
    "producer.flush()"
   ]
  },
  {
   "cell_type": "code",
   "execution_count": null,
   "id": "6ae6f593",
   "metadata": {},
   "outputs": [],
   "source": []
  }
 ],
 "metadata": {
  "kernelspec": {
   "display_name": "Python 3",
   "language": "python",
   "name": "python3"
  },
  "language_info": {
   "codemirror_mode": {
    "name": "ipython",
    "version": 3
   },
   "file_extension": ".py",
   "mimetype": "text/x-python",
   "name": "python",
   "nbconvert_exporter": "python",
   "pygments_lexer": "ipython3",
   "version": "3.6.13"
  }
 },
 "nbformat": 4,
 "nbformat_minor": 5
}
